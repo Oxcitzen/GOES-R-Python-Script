{
 "cells": [
  {
   "attachments": {},
   "cell_type": "markdown",
   "metadata": {},
   "source": [
    "# Testing with GOES-2-go (Conda Environment) #\n",
    "\n",
    "Github link: https://github.com/blaylockbk/goes2go#download-data"
   ]
  },
  {
   "cell_type": "code",
   "execution_count": 1,
   "metadata": {},
   "outputs": [
    {
     "name": "stdout",
     "output_type": "stream",
     "text": [
      "Requirement already satisfied: pyproj in c:\\users\\hp\\anaconda3\\lib\\site-packages (3.3.1)\n",
      "Requirement already satisfied: certifi in c:\\users\\hp\\anaconda3\\lib\\site-packages (from pyproj) (2021.10.8)\n"
     ]
    }
   ],
   "source": [
    "!pip install pyproj"
   ]
  },
  {
   "cell_type": "code",
   "execution_count": 2,
   "metadata": {},
   "outputs": [
    {
     "name": "stdout",
     "output_type": "stream",
     "text": [
      "Collecting geos\n",
      "  Using cached geos-0.2.3-py3-none-any.whl (400 kB)\n",
      "Requirement already satisfied: flask in c:\\users\\hp\\anaconda3\\lib\\site-packages (from geos) (1.1.2)\n",
      "Requirement already satisfied: lxml in c:\\users\\hp\\anaconda3\\lib\\site-packages (from geos) (4.8.0)\n",
      "Requirement already satisfied: pillow in c:\\users\\hp\\anaconda3\\lib\\site-packages (from geos) (9.0.1)\n",
      "Requirement already satisfied: click>=5.1 in c:\\users\\hp\\anaconda3\\lib\\site-packages (from flask->geos) (8.0.4)\n",
      "Requirement already satisfied: Werkzeug>=0.15 in c:\\users\\hp\\anaconda3\\lib\\site-packages (from flask->geos) (2.0.3)\n",
      "Requirement already satisfied: itsdangerous>=0.24 in c:\\users\\hp\\anaconda3\\lib\\site-packages (from flask->geos) (2.0.1)\n",
      "Requirement already satisfied: Jinja2>=2.10.1 in c:\\users\\hp\\anaconda3\\lib\\site-packages (from flask->geos) (2.11.3)\n",
      "Requirement already satisfied: colorama in c:\\users\\hp\\anaconda3\\lib\\site-packages (from click>=5.1->flask->geos) (0.4.4)\n",
      "Requirement already satisfied: MarkupSafe>=0.23 in c:\\users\\hp\\anaconda3\\lib\\site-packages (from Jinja2>=2.10.1->flask->geos) (2.0.1)\n",
      "Installing collected packages: geos\n",
      "Successfully installed geos-0.2.3\n"
     ]
    }
   ],
   "source": [
    "!pip install geos"
   ]
  },
  {
   "cell_type": "code",
   "execution_count": 3,
   "metadata": {},
   "outputs": [
    {
     "name": "stdout",
     "output_type": "stream",
     "text": [
      "Collecting package metadata (current_repodata.json): ...working... done\n",
      "Note: you may need to restart the kernel to use updated packages.\n",
      "Solving environment: ...working... done\n",
      "\n",
      "# All requested packages already installed.\n",
      "\n",
      "\n"
     ]
    }
   ],
   "source": [
    "conda install -c conda-forge cartopy"
   ]
  },
  {
   "cell_type": "code",
   "execution_count": 4,
   "metadata": {},
   "outputs": [
    {
     "name": "stdout",
     "output_type": "stream",
     "text": [
      "Requirement already satisfied: cartopy in c:\\users\\hp\\anaconda3\\lib\\site-packages (0.21.1)\n",
      "Requirement already satisfied: matplotlib>=3.1 in c:\\users\\hp\\anaconda3\\lib\\site-packages (from cartopy) (3.5.1)\n",
      "Requirement already satisfied: numpy>=1.18 in c:\\users\\hp\\anaconda3\\lib\\site-packages (from cartopy) (1.21.5)\n",
      "Requirement already satisfied: pyshp>=2.1 in c:\\users\\hp\\anaconda3\\lib\\site-packages (from cartopy) (2.3.1)\n",
      "Requirement already satisfied: shapely>=1.6.4 in c:\\users\\hp\\anaconda3\\lib\\site-packages (from cartopy) (1.8.4)\n",
      "Requirement already satisfied: pyproj>=3.0.0 in c:\\users\\hp\\anaconda3\\lib\\site-packages (from cartopy) (3.3.1)\n",
      "Requirement already satisfied: pyparsing>=2.2.1 in c:\\users\\hp\\anaconda3\\lib\\site-packages (from matplotlib>=3.1->cartopy) (3.0.4)\n",
      "Requirement already satisfied: packaging>=20.0 in c:\\users\\hp\\anaconda3\\lib\\site-packages (from matplotlib>=3.1->cartopy) (21.3)\n",
      "Requirement already satisfied: fonttools>=4.22.0 in c:\\users\\hp\\anaconda3\\lib\\site-packages (from matplotlib>=3.1->cartopy) (4.25.0)\n",
      "Requirement already satisfied: python-dateutil>=2.7 in c:\\users\\hp\\anaconda3\\lib\\site-packages (from matplotlib>=3.1->cartopy) (2.8.2)\n",
      "Requirement already satisfied: pillow>=6.2.0 in c:\\users\\hp\\anaconda3\\lib\\site-packages (from matplotlib>=3.1->cartopy) (9.0.1)\n",
      "Requirement already satisfied: cycler>=0.10 in c:\\users\\hp\\anaconda3\\lib\\site-packages (from matplotlib>=3.1->cartopy) (0.11.0)\n",
      "Requirement already satisfied: kiwisolver>=1.0.1 in c:\\users\\hp\\anaconda3\\lib\\site-packages (from matplotlib>=3.1->cartopy) (1.3.2)\n",
      "Requirement already satisfied: certifi in c:\\users\\hp\\anaconda3\\lib\\site-packages (from pyproj>=3.0.0->cartopy) (2021.10.8)\n",
      "Requirement already satisfied: six>=1.5 in c:\\users\\hp\\anaconda3\\lib\\site-packages (from python-dateutil>=2.7->matplotlib>=3.1->cartopy) (1.16.0)\n"
     ]
    }
   ],
   "source": [
    "#Not Working\n",
    "\n",
    "!pip install cartopy\n"
   ]
  },
  {
   "cell_type": "code",
   "execution_count": 12,
   "metadata": {},
   "outputs": [
    {
     "name": "stdout",
     "output_type": "stream",
     "text": [
      "Requirement already satisfied: geoviews in c:\\users\\hp\\anaconda3\\lib\\site-packages (1.9.6)\n",
      "Requirement already satisfied: bokeh<2.5,>=2.4.0 in c:\\users\\hp\\anaconda3\\lib\\site-packages (from geoviews) (2.4.2)\n",
      "Requirement already satisfied: shapely in c:\\users\\hp\\anaconda3\\lib\\site-packages (from geoviews) (1.8.4)\n",
      "Requirement already satisfied: param in c:\\users\\hp\\anaconda3\\lib\\site-packages (from geoviews) (1.12.0)\n",
      "Requirement already satisfied: numpy in c:\\users\\hp\\anaconda3\\lib\\site-packages (from geoviews) (1.21.5)\n",
      "Requirement already satisfied: holoviews>=1.14.2 in c:\\users\\hp\\anaconda3\\lib\\site-packages (from geoviews) (1.14.8)\n",
      "Requirement already satisfied: packaging in c:\\users\\hp\\anaconda3\\lib\\site-packages (from geoviews) (21.3)\n",
      "Requirement already satisfied: cartopy>=0.18.0 in c:\\users\\hp\\anaconda3\\lib\\site-packages (from geoviews) (0.21.1)\n",
      "Requirement already satisfied: panel in c:\\users\\hp\\anaconda3\\lib\\site-packages (from geoviews) (0.13.0)\n",
      "Requirement already satisfied: PyYAML>=3.10 in c:\\users\\hp\\anaconda3\\lib\\site-packages (from bokeh<2.5,>=2.4.0->geoviews) (6.0)\n",
      "Requirement already satisfied: pillow>=7.1.0 in c:\\users\\hp\\anaconda3\\lib\\site-packages (from bokeh<2.5,>=2.4.0->geoviews) (9.0.1)\n",
      "Requirement already satisfied: tornado>=5.1 in c:\\users\\hp\\anaconda3\\lib\\site-packages (from bokeh<2.5,>=2.4.0->geoviews) (6.1)\n",
      "Requirement already satisfied: typing-extensions>=3.10.0 in c:\\users\\hp\\anaconda3\\lib\\site-packages (from bokeh<2.5,>=2.4.0->geoviews) (4.1.1)\n",
      "Requirement already satisfied: Jinja2>=2.9 in c:\\users\\hp\\anaconda3\\lib\\site-packages (from bokeh<2.5,>=2.4.0->geoviews) (2.11.3)\n",
      "Requirement already satisfied: pyshp>=2.1 in c:\\users\\hp\\anaconda3\\lib\\site-packages (from cartopy>=0.18.0->geoviews) (2.3.1)\n",
      "Requirement already satisfied: matplotlib>=3.1 in c:\\users\\hp\\anaconda3\\lib\\site-packages (from cartopy>=0.18.0->geoviews) (3.5.1)\n",
      "Requirement already satisfied: pyproj>=3.0.0 in c:\\users\\hp\\anaconda3\\lib\\site-packages (from cartopy>=0.18.0->geoviews) (3.3.1)\n",
      "Requirement already satisfied: colorcet in c:\\users\\hp\\anaconda3\\lib\\site-packages (from holoviews>=1.14.2->geoviews) (2.0.6)\n",
      "Requirement already satisfied: pyviz-comms>=0.7.4 in c:\\users\\hp\\anaconda3\\lib\\site-packages (from holoviews>=1.14.2->geoviews) (2.0.2)\n",
      "Requirement already satisfied: pandas>=0.20.0 in c:\\users\\hp\\anaconda3\\lib\\site-packages (from holoviews>=1.14.2->geoviews) (1.4.2)\n",
      "Requirement already satisfied: MarkupSafe>=0.23 in c:\\users\\hp\\anaconda3\\lib\\site-packages (from Jinja2>=2.9->bokeh<2.5,>=2.4.0->geoviews) (2.0.1)\n",
      "Requirement already satisfied: python-dateutil>=2.7 in c:\\users\\hp\\anaconda3\\lib\\site-packages (from matplotlib>=3.1->cartopy>=0.18.0->geoviews) (2.8.2)\n",
      "Requirement already satisfied: cycler>=0.10 in c:\\users\\hp\\anaconda3\\lib\\site-packages (from matplotlib>=3.1->cartopy>=0.18.0->geoviews) (0.11.0)\n",
      "Requirement already satisfied: fonttools>=4.22.0 in c:\\users\\hp\\anaconda3\\lib\\site-packages (from matplotlib>=3.1->cartopy>=0.18.0->geoviews) (4.25.0)\n",
      "Requirement already satisfied: kiwisolver>=1.0.1 in c:\\users\\hp\\anaconda3\\lib\\site-packages (from matplotlib>=3.1->cartopy>=0.18.0->geoviews) (1.3.2)\n",
      "Requirement already satisfied: pyparsing>=2.2.1 in c:\\users\\hp\\anaconda3\\lib\\site-packages (from matplotlib>=3.1->cartopy>=0.18.0->geoviews) (3.0.4)\n",
      "Requirement already satisfied: pytz>=2020.1 in c:\\users\\hp\\anaconda3\\lib\\site-packages (from pandas>=0.20.0->holoviews>=1.14.2->geoviews) (2021.3)\n",
      "Requirement already satisfied: markdown in c:\\users\\hp\\anaconda3\\lib\\site-packages (from panel->geoviews) (3.3.4)\n",
      "Requirement already satisfied: tqdm>=4.48.0 in c:\\users\\hp\\anaconda3\\lib\\site-packages (from panel->geoviews) (4.64.0)\n",
      "Requirement already satisfied: bleach in c:\\users\\hp\\anaconda3\\lib\\site-packages (from panel->geoviews) (4.1.0)\n",
      "Requirement already satisfied: requests in c:\\users\\hp\\anaconda3\\lib\\site-packages (from panel->geoviews) (2.27.1)\n",
      "Requirement already satisfied: pyct>=0.4.4 in c:\\users\\hp\\anaconda3\\lib\\site-packages (from panel->geoviews) (0.4.6)\n",
      "Requirement already satisfied: certifi in c:\\users\\hp\\anaconda3\\lib\\site-packages (from pyproj>=3.0.0->cartopy>=0.18.0->geoviews) (2021.10.8)\n",
      "Requirement already satisfied: six>=1.5 in c:\\users\\hp\\anaconda3\\lib\\site-packages (from python-dateutil>=2.7->matplotlib>=3.1->cartopy>=0.18.0->geoviews) (1.16.0)\n",
      "Requirement already satisfied: colorama in c:\\users\\hp\\anaconda3\\lib\\site-packages (from tqdm>=4.48.0->panel->geoviews) (0.4.4)\n",
      "Requirement already satisfied: webencodings in c:\\users\\hp\\anaconda3\\lib\\site-packages (from bleach->panel->geoviews) (0.5.1)\n",
      "Requirement already satisfied: urllib3<1.27,>=1.21.1 in c:\\users\\hp\\anaconda3\\lib\\site-packages (from requests->panel->geoviews) (1.26.9)\n",
      "Requirement already satisfied: charset-normalizer~=2.0.0 in c:\\users\\hp\\anaconda3\\lib\\site-packages (from requests->panel->geoviews) (2.0.4)\n",
      "Requirement already satisfied: idna<4,>=2.5 in c:\\users\\hp\\anaconda3\\lib\\site-packages (from requests->panel->geoviews) (3.3)\n"
     ]
    }
   ],
   "source": [
    "!pip install geoviews"
   ]
  },
  {
   "cell_type": "code",
   "execution_count": 13,
   "metadata": {},
   "outputs": [
    {
     "name": "stdout",
     "output_type": "stream",
     "text": [
      "Requirement already satisfied: metpy in c:\\users\\hp\\anaconda3\\lib\\site-packages (1.4.0)\n",
      "Requirement already satisfied: pandas>=1.0.0 in c:\\users\\hp\\anaconda3\\lib\\site-packages (from metpy) (1.4.2)\n",
      "Requirement already satisfied: pint>=0.15 in c:\\users\\hp\\anaconda3\\lib\\site-packages (from metpy) (0.20.1)\n",
      "Requirement already satisfied: traitlets>=5.0.5 in c:\\users\\hp\\anaconda3\\lib\\site-packages (from metpy) (5.1.1)\n",
      "Requirement already satisfied: xarray>=0.18.0 in c:\\users\\hp\\anaconda3\\lib\\site-packages (from metpy) (0.20.1)\n",
      "Requirement already satisfied: numpy>=1.18.0 in c:\\users\\hp\\anaconda3\\lib\\site-packages (from metpy) (1.21.5)\n",
      "Requirement already satisfied: pooch>=1.2.0 in c:\\users\\hp\\anaconda3\\lib\\site-packages (from metpy) (1.6.0)\n",
      "Requirement already satisfied: matplotlib>=3.3.0 in c:\\users\\hp\\anaconda3\\lib\\site-packages (from metpy) (3.5.1)\n",
      "Requirement already satisfied: pyproj>=2.6.1 in c:\\users\\hp\\anaconda3\\lib\\site-packages (from metpy) (3.3.1)\n",
      "Requirement already satisfied: scipy>=1.4.0 in c:\\users\\hp\\anaconda3\\lib\\site-packages (from metpy) (1.7.3)\n",
      "Requirement already satisfied: python-dateutil>=2.7 in c:\\users\\hp\\anaconda3\\lib\\site-packages (from matplotlib>=3.3.0->metpy) (2.8.2)\n",
      "Requirement already satisfied: cycler>=0.10 in c:\\users\\hp\\anaconda3\\lib\\site-packages (from matplotlib>=3.3.0->metpy) (0.11.0)\n",
      "Requirement already satisfied: packaging>=20.0 in c:\\users\\hp\\anaconda3\\lib\\site-packages (from matplotlib>=3.3.0->metpy) (21.3)\n",
      "Requirement already satisfied: pillow>=6.2.0 in c:\\users\\hp\\anaconda3\\lib\\site-packages (from matplotlib>=3.3.0->metpy) (9.0.1)\n",
      "Requirement already satisfied: fonttools>=4.22.0 in c:\\users\\hp\\anaconda3\\lib\\site-packages (from matplotlib>=3.3.0->metpy) (4.25.0)\n",
      "Requirement already satisfied: pyparsing>=2.2.1 in c:\\users\\hp\\anaconda3\\lib\\site-packages (from matplotlib>=3.3.0->metpy) (3.0.4)\n",
      "Requirement already satisfied: kiwisolver>=1.0.1 in c:\\users\\hp\\anaconda3\\lib\\site-packages (from matplotlib>=3.3.0->metpy) (1.3.2)\n",
      "Requirement already satisfied: pytz>=2020.1 in c:\\users\\hp\\anaconda3\\lib\\site-packages (from pandas>=1.0.0->metpy) (2021.3)\n",
      "Requirement already satisfied: appdirs>=1.3.0 in c:\\users\\hp\\anaconda3\\lib\\site-packages (from pooch>=1.2.0->metpy) (1.4.4)\n",
      "Requirement already satisfied: requests>=2.19.0 in c:\\users\\hp\\anaconda3\\lib\\site-packages (from pooch>=1.2.0->metpy) (2.27.1)\n",
      "Requirement already satisfied: certifi in c:\\users\\hp\\anaconda3\\lib\\site-packages (from pyproj>=2.6.1->metpy) (2021.10.8)\n",
      "Requirement already satisfied: six>=1.5 in c:\\users\\hp\\anaconda3\\lib\\site-packages (from python-dateutil>=2.7->matplotlib>=3.3.0->metpy) (1.16.0)\n",
      "Requirement already satisfied: urllib3<1.27,>=1.21.1 in c:\\users\\hp\\anaconda3\\lib\\site-packages (from requests>=2.19.0->pooch>=1.2.0->metpy) (1.26.9)\n",
      "Requirement already satisfied: idna<4,>=2.5 in c:\\users\\hp\\anaconda3\\lib\\site-packages (from requests>=2.19.0->pooch>=1.2.0->metpy) (3.3)\n",
      "Requirement already satisfied: charset-normalizer~=2.0.0 in c:\\users\\hp\\anaconda3\\lib\\site-packages (from requests>=2.19.0->pooch>=1.2.0->metpy) (2.0.4)\n"
     ]
    }
   ],
   "source": [
    "!pip install metpy"
   ]
  },
  {
   "cell_type": "code",
   "execution_count": 14,
   "metadata": {},
   "outputs": [
    {
     "name": "stdout",
     "output_type": "stream",
     "text": [
      "Requirement already satisfied: goes2go in c:\\users\\hp\\anaconda3\\lib\\site-packages (2022.10.0)\n",
      "Requirement already satisfied: pandas in c:\\users\\hp\\anaconda3\\lib\\site-packages (from goes2go) (1.4.2)\n",
      "Requirement already satisfied: numpy in c:\\users\\hp\\anaconda3\\lib\\site-packages (from goes2go) (1.21.5)\n",
      "Requirement already satisfied: xarray in c:\\users\\hp\\anaconda3\\lib\\site-packages (from goes2go) (0.20.1)\n",
      "Requirement already satisfied: s3fs in c:\\users\\hp\\anaconda3\\lib\\site-packages (from goes2go) (0.4.2)\n",
      "Requirement already satisfied: metpy in c:\\users\\hp\\anaconda3\\lib\\site-packages (from goes2go) (1.4.0)\n",
      "Requirement already satisfied: cartopy in c:\\users\\hp\\anaconda3\\lib\\site-packages (from goes2go) (0.21.1)\n",
      "Requirement already satisfied: toml in c:\\users\\hp\\anaconda3\\lib\\site-packages (from goes2go) (0.10.2)\n",
      "Requirement already satisfied: pyproj>=3.0.0 in c:\\users\\hp\\anaconda3\\lib\\site-packages (from cartopy->goes2go) (3.3.1)\n",
      "Requirement already satisfied: matplotlib>=3.1 in c:\\users\\hp\\anaconda3\\lib\\site-packages (from cartopy->goes2go) (3.5.1)\n",
      "Requirement already satisfied: pyshp>=2.1 in c:\\users\\hp\\anaconda3\\lib\\site-packages (from cartopy->goes2go) (2.3.1)\n",
      "Requirement already satisfied: shapely>=1.6.4 in c:\\users\\hp\\anaconda3\\lib\\site-packages (from cartopy->goes2go) (1.8.4)\n",
      "Requirement already satisfied: fonttools>=4.22.0 in c:\\users\\hp\\anaconda3\\lib\\site-packages (from matplotlib>=3.1->cartopy->goes2go) (4.25.0)\n",
      "Requirement already satisfied: pyparsing>=2.2.1 in c:\\users\\hp\\anaconda3\\lib\\site-packages (from matplotlib>=3.1->cartopy->goes2go) (3.0.4)\n",
      "Requirement already satisfied: python-dateutil>=2.7 in c:\\users\\hp\\anaconda3\\lib\\site-packages (from matplotlib>=3.1->cartopy->goes2go) (2.8.2)\n",
      "Requirement already satisfied: cycler>=0.10 in c:\\users\\hp\\anaconda3\\lib\\site-packages (from matplotlib>=3.1->cartopy->goes2go) (0.11.0)\n",
      "Requirement already satisfied: packaging>=20.0 in c:\\users\\hp\\anaconda3\\lib\\site-packages (from matplotlib>=3.1->cartopy->goes2go) (21.3)\n",
      "Requirement already satisfied: pillow>=6.2.0 in c:\\users\\hp\\anaconda3\\lib\\site-packages (from matplotlib>=3.1->cartopy->goes2go) (9.0.1)\n",
      "Requirement already satisfied: kiwisolver>=1.0.1 in c:\\users\\hp\\anaconda3\\lib\\site-packages (from matplotlib>=3.1->cartopy->goes2go) (1.3.2)\n",
      "Requirement already satisfied: certifi in c:\\users\\hp\\anaconda3\\lib\\site-packages (from pyproj>=3.0.0->cartopy->goes2go) (2021.10.8)\n",
      "Requirement already satisfied: six>=1.5 in c:\\users\\hp\\anaconda3\\lib\\site-packages (from python-dateutil>=2.7->matplotlib>=3.1->cartopy->goes2go) (1.16.0)\n",
      "Requirement already satisfied: pint>=0.15 in c:\\users\\hp\\anaconda3\\lib\\site-packages (from metpy->goes2go) (0.20.1)\n",
      "Requirement already satisfied: traitlets>=5.0.5 in c:\\users\\hp\\anaconda3\\lib\\site-packages (from metpy->goes2go) (5.1.1)\n",
      "Requirement already satisfied: scipy>=1.4.0 in c:\\users\\hp\\anaconda3\\lib\\site-packages (from metpy->goes2go) (1.7.3)\n",
      "Requirement already satisfied: pooch>=1.2.0 in c:\\users\\hp\\anaconda3\\lib\\site-packages (from metpy->goes2go) (1.6.0)\n",
      "Requirement already satisfied: pytz>=2020.1 in c:\\users\\hp\\anaconda3\\lib\\site-packages (from pandas->goes2go) (2021.3)\n",
      "Requirement already satisfied: appdirs>=1.3.0 in c:\\users\\hp\\anaconda3\\lib\\site-packages (from pooch>=1.2.0->metpy->goes2go) (1.4.4)\n",
      "Requirement already satisfied: requests>=2.19.0 in c:\\users\\hp\\anaconda3\\lib\\site-packages (from pooch>=1.2.0->metpy->goes2go) (2.27.1)\n",
      "Requirement already satisfied: charset-normalizer~=2.0.0 in c:\\users\\hp\\anaconda3\\lib\\site-packages (from requests>=2.19.0->pooch>=1.2.0->metpy->goes2go) (2.0.4)\n",
      "Requirement already satisfied: idna<4,>=2.5 in c:\\users\\hp\\anaconda3\\lib\\site-packages (from requests>=2.19.0->pooch>=1.2.0->metpy->goes2go) (3.3)\n",
      "Requirement already satisfied: urllib3<1.27,>=1.21.1 in c:\\users\\hp\\anaconda3\\lib\\site-packages (from requests>=2.19.0->pooch>=1.2.0->metpy->goes2go) (1.26.9)\n",
      "Requirement already satisfied: fsspec>=0.6.0 in c:\\users\\hp\\anaconda3\\lib\\site-packages (from s3fs->goes2go) (2022.2.0)\n",
      "Requirement already satisfied: botocore>=1.12.91 in c:\\users\\hp\\anaconda3\\lib\\site-packages (from s3fs->goes2go) (1.24.32)\n",
      "Requirement already satisfied: jmespath<2.0.0,>=0.7.1 in c:\\users\\hp\\anaconda3\\lib\\site-packages (from botocore>=1.12.91->s3fs->goes2go) (0.10.0)\n"
     ]
    }
   ],
   "source": [
    "!pip install goes2go"
   ]
  },
  {
   "attachments": {},
   "cell_type": "markdown",
   "metadata": {},
   "source": [
    "# Alternative One Line Script (Took about one and half hour)"
   ]
  },
  {
   "cell_type": "code",
   "execution_count": null,
   "metadata": {},
   "outputs": [],
   "source": [
    "conda install -c conda-forge goes2go"
   ]
  },
  {
   "attachments": {},
   "cell_type": "markdown",
   "metadata": {},
   "source": [
    "# Testing with the package #"
   ]
  },
  {
   "cell_type": "code",
   "execution_count": 11,
   "metadata": {},
   "outputs": [
    {
     "name": "stdout",
     "output_type": "stream",
     "text": [
      "Requirement already satisfied: xarray in c:\\users\\hp\\anaconda3\\lib\\site-packages (0.20.1)\n",
      "Requirement already satisfied: numpy>=1.18 in c:\\users\\hp\\anaconda3\\lib\\site-packages (from xarray) (1.21.5)\n",
      "Requirement already satisfied: pandas>=1.1 in c:\\users\\hp\\anaconda3\\lib\\site-packages (from xarray) (1.4.2)\n",
      "Requirement already satisfied: python-dateutil>=2.8.1 in c:\\users\\hp\\anaconda3\\lib\\site-packages (from pandas>=1.1->xarray) (2.8.2)\n",
      "Requirement already satisfied: pytz>=2020.1 in c:\\users\\hp\\anaconda3\\lib\\site-packages (from pandas>=1.1->xarray) (2021.3)\n",
      "Requirement already satisfied: six>=1.5 in c:\\users\\hp\\anaconda3\\lib\\site-packages (from python-dateutil>=2.8.1->pandas>=1.1->xarray) (1.16.0)\n"
     ]
    }
   ],
   "source": [
    "!pip install xarray"
   ]
  },
  {
   "cell_type": "code",
   "execution_count": 6,
   "metadata": {},
   "outputs": [
    {
     "name": "stdout",
     "output_type": "stream",
     "text": [
      " ╭─────────────────────────────────────────────────╮\n",
      " │ I'm building goes2go's default config file.     │\n",
      " ╰╥────────────────────────────────────────────────╯\n",
      " 👷🏻‍♂️\n",
      "⚙ Created config file [C:\\Users\\hp\\.config\\goes2go\\config.toml] with default values.\n"
     ]
    },
    {
     "name": "stderr",
     "output_type": "stream",
     "text": [
      "domain argument is ignored for non-ABI products\n"
     ]
    }
   ],
   "source": [
    "from goes2go import GOES\n",
    "\n",
    "# ABI Multi-Channel Cloud Moisture Imagry Product\n",
    "G = GOES(satellite=16, product=\"ABI-L2-MCMIP\", domain='C')\n",
    "\n",
    "# Geostationary Lightning Mapper\n",
    "G = GOES(satellite=17, product=\"GLM-L2-LCFA\", domain='C')\n",
    "\n",
    "# ABI Level 1b Data\n",
    "G = GOES(satellite=17, product=\"ABI-L1b-Rad\", domain='F')"
   ]
  },
  {
   "cell_type": "code",
   "execution_count": 16,
   "metadata": {},
   "outputs": [],
   "source": [
    "  # Produce a pandas DataFrame of the available files in a time range\n",
    "df = G.df(start='2022-07-04 01:00', end='2022-07-04 01:30')"
   ]
  },
  {
   "cell_type": "code",
   "execution_count": 17,
   "metadata": {},
   "outputs": [
    {
     "name": "stdout",
     "output_type": "stream",
     "text": [
      " 👮🏻‍♂️ File already exists. Do not overwrite: C:\\Users\\hp\\data\\noaa-goes17\\ABI-L1b-RadF\\2022\\001\\00\\OR_ABI-L1b-RadF-M6C13_G17_s20220010000320_e20220010009397_c20220010009444.nc 👮🏻‍♂️ File already exists. Do not overwrite: C:\\Users\\hp\\data\\noaa-goes17\\ABI-L1b-RadF\\2022\\001\\00\\OR_ABI-L1b-RadF-M6C05_G17_s20220010000320_e20220010009386_c20220010009430.nc 👮🏻‍♂️ File already exists. Do not overwrite: C:\\Users\\hp\\data\\noaa-goes17\\ABI-L1b-RadF\\2022\\001\\00\\OR_ABI-L1b-RadF-M6C15_G17_s20220010000320_e20220010009392_c20220010009447.nc 👮🏻‍♂️ File already exists. Do not overwrite: C:\\Users\\hp\\data\\noaa-goes17\\ABI-L1b-RadF\\2022\\001\\00\\OR_ABI-L1b-RadF-M6C04_G17_s20220010000320_e20220010009386_c20220010009427.nc\n",
      "\n",
      "\n",
      "\n",
      " 👮🏻‍♂️ File already exists. Do not overwrite: C:\\Users\\hp\\data\\noaa-goes17\\ABI-L1b-RadF\\2022\\001\\00\\OR_ABI-L1b-RadF-M6C06_G17_s20220010000320_e20220010009392_c20220010009418.nc\n",
      " 👮🏻‍♂️ File already exists. Do not overwrite: C:\\Users\\hp\\data\\noaa-goes17\\ABI-L1b-RadF\\2022\\001\\00\\OR_ABI-L1b-RadF-M6C11_G17_s20220010000320_e20220010009386_c20220010009442.nc 👮🏻‍♂️ File already exists. Do not overwrite: C:\\Users\\hp\\data\\noaa-goes17\\ABI-L1b-RadF\\2022\\001\\00\\OR_ABI-L1b-RadF-M6C07_G17_s20220010000320_e20220010009397_c20220010009435.nc 👮🏻‍♂️ File already exists. Do not overwrite: C:\\Users\\hp\\data\\noaa-goes17\\ABI-L1b-RadF\\2022\\001\\00\\OR_ABI-L1b-RadF-M6C03_G17_s20220010000320_e20220010009386_c20220010009420.nc\n",
      "\n",
      "\n",
      " 👮🏻‍♂️ File already exists. Do not overwrite: C:\\Users\\hp\\data\\noaa-goes17\\ABI-L1b-RadF\\2022\\001\\00\\OR_ABI-L1b-RadF-M6C12_G17_s20220010000320_e20220010009392_c20220010009434.nc 👮🏻‍♂️ File already exists. Do not overwrite: C:\\Users\\hp\\data\\noaa-goes17\\ABI-L1b-RadF\\2022\\001\\00\\OR_ABI-L1b-RadF-M6C02_G17_s20220010000320_e20220010009386_c20220010009415.nc\n",
      " 👮🏻‍♂️ File already exists. Do not overwrite: C:\\Users\\hp\\data\\noaa-goes17\\ABI-L1b-RadF\\2022\\001\\00\\OR_ABI-L1b-RadF-M6C16_G17_s20220010000320_e20220010009398_c20220010009449.nc 👮🏻‍♂️ File already exists. Do not overwrite: C:\\Users\\hp\\data\\noaa-goes17\\ABI-L1b-RadF\\2022\\001\\00\\OR_ABI-L1b-RadF-M6C10_G17_s20220010000320_e20220010009397_c20220010009437.nc\n",
      "\n",
      " 👮🏻‍♂️ File already exists. Do not overwrite: C:\\Users\\hp\\data\\noaa-goes17\\ABI-L1b-RadF\\2022\\001\\00\\OR_ABI-L1b-RadF-M6C14_G17_s20220010000320_e20220010009386_c20220010009439.nc\n",
      " 👮🏻‍♂️ File already exists. Do not overwrite: C:\\Users\\hp\\data\\noaa-goes17\\ABI-L1b-RadF\\2022\\001\\00\\OR_ABI-L1b-RadF-M6C08_G17_s20220010000320_e20220010009386_c20220010009432.nc 👮🏻‍♂️ File already exists. Do not overwrite: C:\\Users\\hp\\data\\noaa-goes17\\ABI-L1b-RadF\\2022\\001\\00\\OR_ABI-L1b-RadF-M6C09_G17_s20220010000320_e20220010009392_c20220010009431.nc\n",
      "\n",
      "\n",
      " 👮🏻‍♂️ File already exists. Do not overwrite: C:\\Users\\hp\\data\\noaa-goes17\\ABI-L1b-RadF\\2022\\001\\00\\OR_ABI-L1b-RadF-M6C01_G17_s20220010000320_e20220010009386_c20220010009424.nc\n",
      "📦 Finished downloading [16] files to [C:\\Users\\hp\\data\\noaa-goes17\\ABI-L1b-RadF].\n"
     ]
    }
   ],
   "source": [
    "# Download and read the data as an xarray Dataset nearest a specific time\n",
    "ds = G.nearesttime('2022-01-01') # Crashed on local machine\n",
    "\n"
   ]
  },
  {
   "cell_type": "code",
   "execution_count": null,
   "metadata": {},
   "outputs": [],
   "source": [
    "# Download and read the latest data as an xarray Dataset\n",
    "ds = G.latest()\n",
    "\n",
    "# Download data for a specified time range\n",
    "G.timerange(start='2022-06-01 00:00', end='2022-06-01 01:00')\n",
    "\n",
    "# Download recent data for a specific interval\n",
    "G.timerange(recent='30min')"
   ]
  },
  {
   "cell_type": "code",
   "execution_count": null,
   "metadata": {},
   "outputs": [],
   "source": [
    "import matplotlib.pyplot as plt\n",
    "ds = GOES().latest()\n",
    "ax = plt.subplot(projection=ds.rgb.crs)\n",
    "ax.imshow(ds.rgb.TrueColor(), **ds.rgb.imshow_kwargs)\n",
    "ax.coastlines()"
   ]
  },
  {
   "cell_type": "code",
   "execution_count": null,
   "metadata": {},
   "outputs": [],
   "source": []
  }
 ],
 "metadata": {
  "kernelspec": {
   "display_name": "base",
   "language": "python",
   "name": "python3"
  },
  "language_info": {
   "codemirror_mode": {
    "name": "ipython",
    "version": 3
   },
   "file_extension": ".py",
   "mimetype": "text/x-python",
   "name": "python",
   "nbconvert_exporter": "python",
   "pygments_lexer": "ipython3",
   "version": "3.9.12"
  },
  "orig_nbformat": 4,
  "vscode": {
   "interpreter": {
    "hash": "b302cdd1e032ee910f5c889c3360c28564c92ad4f326fc3102e39fbe47faee66"
   }
  }
 },
 "nbformat": 4,
 "nbformat_minor": 2
}
