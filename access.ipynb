{
  "nbformat": 4,
  "nbformat_minor": 0,
  "metadata": {
    "colab": {
      "provenance": [],
      "authorship_tag": "ABX9TyOvCq5RgRMY1tZC9ttehg2E",
      "include_colab_link": true
    },
    "kernelspec": {
      "name": "python3",
      "display_name": "Python 3"
    },
    "language_info": {
      "name": "python"
    }
  },
  "cells": [
    {
      "cell_type": "markdown",
      "metadata": {
        "id": "view-in-github",
        "colab_type": "text"
      },
      "source": [
        "<a href=\"https://colab.research.google.com/github/Oxcitzen/GOES-R-Python-Script/blob/main/access.ipynb\" target=\"_parent\"><img src=\"https://colab.research.google.com/assets/colab-badge.svg\" alt=\"Open In Colab\"/></a>"
      ]
    },
    {
      "cell_type": "markdown",
      "source": [
        "# Testing with GOES-2-go  #\n",
        "\n",
        "Github link: https://github.com/blaylockbk/goes2go#download-data"
      ],
      "metadata": {
        "id": "u5UeEGS1qVuj"
      }
    },
    {
      "cell_type": "code",
      "execution_count": 1,
      "metadata": {
        "colab": {
          "base_uri": "https://localhost:8080/"
        },
        "id": "ucniakzho5ea",
        "outputId": "58a28bdf-5f0e-4f0d-ac9f-722e82926d77"
      },
      "outputs": [
        {
          "output_type": "stream",
          "name": "stdout",
          "text": [
            "Looking in indexes: https://pypi.org/simple, https://us-python.pkg.dev/colab-wheels/public/simple/\n",
            "Collecting GEOS\n",
            "  Downloading geos-0.2.3-py3-none-any.whl (400 kB)\n",
            "\u001b[2K     \u001b[90m━━━━━━━━━━━━━━━━━━━━━━━━━━━━━━━━━━━━━━\u001b[0m \u001b[32m400.3/400.3 KB\u001b[0m \u001b[31m18.8 MB/s\u001b[0m eta \u001b[36m0:00:00\u001b[0m\n",
            "\u001b[?25hRequirement already satisfied: pillow in /usr/local/lib/python3.8/dist-packages (from GEOS) (7.1.2)\n",
            "Requirement already satisfied: lxml in /usr/local/lib/python3.8/dist-packages (from GEOS) (4.9.2)\n",
            "Requirement already satisfied: flask in /usr/local/lib/python3.8/dist-packages (from GEOS) (1.1.4)\n",
            "Requirement already satisfied: Werkzeug<2.0,>=0.15 in /usr/local/lib/python3.8/dist-packages (from flask->GEOS) (1.0.1)\n",
            "Requirement already satisfied: Jinja2<3.0,>=2.10.1 in /usr/local/lib/python3.8/dist-packages (from flask->GEOS) (2.11.3)\n",
            "Requirement already satisfied: itsdangerous<2.0,>=0.24 in /usr/local/lib/python3.8/dist-packages (from flask->GEOS) (1.1.0)\n",
            "Requirement already satisfied: click<8.0,>=5.1 in /usr/local/lib/python3.8/dist-packages (from flask->GEOS) (7.1.2)\n",
            "Requirement already satisfied: MarkupSafe>=0.23 in /usr/local/lib/python3.8/dist-packages (from Jinja2<3.0,>=2.10.1->flask->GEOS) (2.0.1)\n",
            "Installing collected packages: GEOS\n",
            "Successfully installed GEOS-0.2.3\n",
            "Looking in indexes: https://pypi.org/simple, https://us-python.pkg.dev/colab-wheels/public/simple/\n",
            "Requirement already satisfied: Shapely in /usr/local/lib/python3.8/dist-packages (2.0.1)\n",
            "Requirement already satisfied: numpy>=1.14 in /usr/local/lib/python3.8/dist-packages (from Shapely) (1.22.4)\n",
            "Looking in indexes: https://pypi.org/simple, https://us-python.pkg.dev/colab-wheels/public/simple/\n",
            "Collecting pyshp\n",
            "  Downloading pyshp-2.3.1-py2.py3-none-any.whl (46 kB)\n",
            "\u001b[2K     \u001b[90m━━━━━━━━━━━━━━━━━━━━━━━━━━━━━━━━━━━━━━━━\u001b[0m \u001b[32m46.5/46.5 KB\u001b[0m \u001b[31m2.6 MB/s\u001b[0m eta \u001b[36m0:00:00\u001b[0m\n",
            "\u001b[?25hInstalling collected packages: pyshp\n",
            "Successfully installed pyshp-2.3.1\n",
            "Looking in indexes: https://pypi.org/simple, https://us-python.pkg.dev/colab-wheels/public/simple/\n",
            "Requirement already satisfied: Cython in /usr/local/lib/python3.8/dist-packages (0.29.33)\n",
            "Looking in indexes: https://pypi.org/simple, https://us-python.pkg.dev/colab-wheels/public/simple/\n",
            "Requirement already satisfied: six in /usr/local/lib/python3.8/dist-packages (1.15.0)\n",
            "Looking in indexes: https://pypi.org/simple, https://us-python.pkg.dev/colab-wheels/public/simple/\n",
            "Collecting cartopy\n",
            "  Downloading Cartopy-0.21.1.tar.gz (10.9 MB)\n",
            "\u001b[2K     \u001b[90m━━━━━━━━━━━━━━━━━━━━━━━━━━━━━━━━━━━━━━━━\u001b[0m \u001b[32m10.9/10.9 MB\u001b[0m \u001b[31m82.8 MB/s\u001b[0m eta \u001b[36m0:00:00\u001b[0m\n",
            "\u001b[?25h  Installing build dependencies ... \u001b[?25l\u001b[?25hdone\n",
            "  Getting requirements to build wheel ... \u001b[?25l\u001b[?25hdone\n",
            "  Preparing metadata (pyproject.toml) ... \u001b[?25l\u001b[?25hdone\n",
            "Requirement already satisfied: matplotlib>=3.1 in /usr/local/lib/python3.8/dist-packages (from cartopy) (3.5.3)\n",
            "Requirement already satisfied: pyshp>=2.1 in /usr/local/lib/python3.8/dist-packages (from cartopy) (2.3.1)\n",
            "Collecting pyproj>=3.0.0\n",
            "  Downloading pyproj-3.4.1-cp38-cp38-manylinux_2_17_x86_64.manylinux2014_x86_64.whl (7.8 MB)\n",
            "\u001b[2K     \u001b[90m━━━━━━━━━━━━━━━━━━━━━━━━━━━━━━━━━━━━━━━━\u001b[0m \u001b[32m7.8/7.8 MB\u001b[0m \u001b[31m84.3 MB/s\u001b[0m eta \u001b[36m0:00:00\u001b[0m\n",
            "\u001b[?25hRequirement already satisfied: numpy>=1.18 in /usr/local/lib/python3.8/dist-packages (from cartopy) (1.22.4)\n",
            "Requirement already satisfied: shapely>=1.6.4 in /usr/local/lib/python3.8/dist-packages (from cartopy) (2.0.1)\n",
            "Requirement already satisfied: packaging>=20.0 in /usr/local/lib/python3.8/dist-packages (from matplotlib>=3.1->cartopy) (23.0)\n",
            "Requirement already satisfied: cycler>=0.10 in /usr/local/lib/python3.8/dist-packages (from matplotlib>=3.1->cartopy) (0.11.0)\n",
            "Requirement already satisfied: kiwisolver>=1.0.1 in /usr/local/lib/python3.8/dist-packages (from matplotlib>=3.1->cartopy) (1.4.4)\n",
            "Requirement already satisfied: pillow>=6.2.0 in /usr/local/lib/python3.8/dist-packages (from matplotlib>=3.1->cartopy) (7.1.2)\n",
            "Requirement already satisfied: python-dateutil>=2.7 in /usr/local/lib/python3.8/dist-packages (from matplotlib>=3.1->cartopy) (2.8.2)\n",
            "Requirement already satisfied: fonttools>=4.22.0 in /usr/local/lib/python3.8/dist-packages (from matplotlib>=3.1->cartopy) (4.38.0)\n",
            "Requirement already satisfied: pyparsing>=2.2.1 in /usr/local/lib/python3.8/dist-packages (from matplotlib>=3.1->cartopy) (3.0.9)\n",
            "Requirement already satisfied: certifi in /usr/local/lib/python3.8/dist-packages (from pyproj>=3.0.0->cartopy) (2022.12.7)\n",
            "Requirement already satisfied: six>=1.5 in /usr/local/lib/python3.8/dist-packages (from python-dateutil>=2.7->matplotlib>=3.1->cartopy) (1.15.0)\n",
            "Building wheels for collected packages: cartopy\n",
            "  Building wheel for cartopy (pyproject.toml) ... \u001b[?25l\u001b[?25hdone\n",
            "  Created wheel for cartopy: filename=Cartopy-0.21.1-cp38-cp38-linux_x86_64.whl size=11128002 sha256=4fa8d5b1373f16ae0ba0fed0107faf00d99b645aef7d822e25eb01599f5fbd02\n",
            "  Stored in directory: /root/.cache/pip/wheels/7c/ff/6f/09e4aa53f4e67d6498ef1d33dd4ea9c8c165817b9ddcc31d28\n",
            "Successfully built cartopy\n",
            "Installing collected packages: pyproj, cartopy\n",
            "Successfully installed cartopy-0.21.1 pyproj-3.4.1\n",
            "Looking in indexes: https://pypi.org/simple, https://us-python.pkg.dev/colab-wheels/public/simple/\n",
            "Requirement already satisfied: pyproj in /usr/local/lib/python3.8/dist-packages (3.4.1)\n",
            "Requirement already satisfied: certifi in /usr/local/lib/python3.8/dist-packages (from pyproj) (2022.12.7)\n",
            "Looking in indexes: https://pypi.org/simple, https://us-python.pkg.dev/colab-wheels/public/simple/\n",
            "Requirement already satisfied: geos in /usr/local/lib/python3.8/dist-packages (0.2.3)\n",
            "Requirement already satisfied: pillow in /usr/local/lib/python3.8/dist-packages (from geos) (7.1.2)\n",
            "Requirement already satisfied: lxml in /usr/local/lib/python3.8/dist-packages (from geos) (4.9.2)\n",
            "Requirement already satisfied: flask in /usr/local/lib/python3.8/dist-packages (from geos) (1.1.4)\n",
            "Requirement already satisfied: itsdangerous<2.0,>=0.24 in /usr/local/lib/python3.8/dist-packages (from flask->geos) (1.1.0)\n",
            "Requirement already satisfied: Werkzeug<2.0,>=0.15 in /usr/local/lib/python3.8/dist-packages (from flask->geos) (1.0.1)\n",
            "Requirement already satisfied: Jinja2<3.0,>=2.10.1 in /usr/local/lib/python3.8/dist-packages (from flask->geos) (2.11.3)\n",
            "Requirement already satisfied: click<8.0,>=5.1 in /usr/local/lib/python3.8/dist-packages (from flask->geos) (7.1.2)\n",
            "Requirement already satisfied: MarkupSafe>=0.23 in /usr/local/lib/python3.8/dist-packages (from Jinja2<3.0,>=2.10.1->flask->geos) (2.0.1)\n",
            "Looking in indexes: https://pypi.org/simple, https://us-python.pkg.dev/colab-wheels/public/simple/\n",
            "Collecting geoviews\n",
            "  Downloading geoviews-1.9.6-py2.py3-none-any.whl (508 kB)\n",
            "\u001b[2K     \u001b[90m━━━━━━━━━━━━━━━━━━━━━━━━━━━━━━━━━━━━━━\u001b[0m \u001b[32m508.0/508.0 KB\u001b[0m \u001b[31m29.7 MB/s\u001b[0m eta \u001b[36m0:00:00\u001b[0m\n",
            "\u001b[?25hRequirement already satisfied: panel in /usr/local/lib/python3.8/dist-packages (from geoviews) (0.12.1)\n",
            "Requirement already satisfied: holoviews>=1.14.2 in /usr/local/lib/python3.8/dist-packages (from geoviews) (1.14.9)\n",
            "Requirement already satisfied: param in /usr/local/lib/python3.8/dist-packages (from geoviews) (1.12.3)\n",
            "Requirement already satisfied: shapely in /usr/local/lib/python3.8/dist-packages (from geoviews) (2.0.1)\n",
            "Requirement already satisfied: packaging in /usr/local/lib/python3.8/dist-packages (from geoviews) (23.0)\n",
            "Requirement already satisfied: cartopy>=0.18.0 in /usr/local/lib/python3.8/dist-packages (from geoviews) (0.21.1)\n",
            "Collecting bokeh<2.5,>=2.4.0\n",
            "  Downloading bokeh-2.4.3-py3-none-any.whl (18.5 MB)\n",
            "\u001b[2K     \u001b[90m━━━━━━━━━━━━━━━━━━━━━━━━━━━━━━━━━━━━━━━━\u001b[0m \u001b[32m18.5/18.5 MB\u001b[0m \u001b[31m73.2 MB/s\u001b[0m eta \u001b[36m0:00:00\u001b[0m\n",
            "\u001b[?25hRequirement already satisfied: numpy in /usr/local/lib/python3.8/dist-packages (from geoviews) (1.22.4)\n",
            "Requirement already satisfied: PyYAML>=3.10 in /usr/local/lib/python3.8/dist-packages (from bokeh<2.5,>=2.4.0->geoviews) (6.0)\n",
            "Requirement already satisfied: typing-extensions>=3.10.0 in /usr/local/lib/python3.8/dist-packages (from bokeh<2.5,>=2.4.0->geoviews) (4.5.0)\n",
            "Requirement already satisfied: tornado>=5.1 in /usr/local/lib/python3.8/dist-packages (from bokeh<2.5,>=2.4.0->geoviews) (6.2)\n",
            "Requirement already satisfied: Jinja2>=2.9 in /usr/local/lib/python3.8/dist-packages (from bokeh<2.5,>=2.4.0->geoviews) (2.11.3)\n",
            "Requirement already satisfied: pillow>=7.1.0 in /usr/local/lib/python3.8/dist-packages (from bokeh<2.5,>=2.4.0->geoviews) (7.1.2)\n",
            "Requirement already satisfied: matplotlib>=3.1 in /usr/local/lib/python3.8/dist-packages (from cartopy>=0.18.0->geoviews) (3.5.3)\n",
            "Requirement already satisfied: pyshp>=2.1 in /usr/local/lib/python3.8/dist-packages (from cartopy>=0.18.0->geoviews) (2.3.1)\n",
            "Requirement already satisfied: pyproj>=3.0.0 in /usr/local/lib/python3.8/dist-packages (from cartopy>=0.18.0->geoviews) (3.4.1)\n",
            "Requirement already satisfied: pyviz-comms>=0.7.4 in /usr/local/lib/python3.8/dist-packages (from holoviews>=1.14.2->geoviews) (2.2.1)\n",
            "Requirement already satisfied: colorcet in /usr/local/lib/python3.8/dist-packages (from holoviews>=1.14.2->geoviews) (3.0.1)\n",
            "Requirement already satisfied: pandas>=0.20.0 in /usr/local/lib/python3.8/dist-packages (from holoviews>=1.14.2->geoviews) (1.3.5)\n",
            "Requirement already satisfied: bleach in /usr/local/lib/python3.8/dist-packages (from panel->geoviews) (6.0.0)\n",
            "Collecting panel\n",
            "  Downloading panel-0.14.3-py2.py3-none-any.whl (17.1 MB)\n",
            "\u001b[2K     \u001b[90m━━━━━━━━━━━━━━━━━━━━━━━━━━━━━━━━━━━━━━━━\u001b[0m \u001b[32m17.1/17.1 MB\u001b[0m \u001b[31m69.3 MB/s\u001b[0m eta \u001b[36m0:00:00\u001b[0m\n",
            "\u001b[?25hRequirement already satisfied: requests in /usr/local/lib/python3.8/dist-packages (from panel->geoviews) (2.25.1)\n",
            "Requirement already satisfied: markdown in /usr/local/lib/python3.8/dist-packages (from panel->geoviews) (3.4.1)\n",
            "Requirement already satisfied: setuptools>=42 in /usr/local/lib/python3.8/dist-packages (from panel->geoviews) (57.4.0)\n",
            "Requirement already satisfied: tqdm>=4.48.0 in /usr/local/lib/python3.8/dist-packages (from panel->geoviews) (4.64.1)\n",
            "Requirement already satisfied: pyct>=0.4.4 in /usr/local/lib/python3.8/dist-packages (from panel->geoviews) (0.5.0)\n",
            "Requirement already satisfied: MarkupSafe>=0.23 in /usr/local/lib/python3.8/dist-packages (from Jinja2>=2.9->bokeh<2.5,>=2.4.0->geoviews) (2.0.1)\n",
            "Requirement already satisfied: kiwisolver>=1.0.1 in /usr/local/lib/python3.8/dist-packages (from matplotlib>=3.1->cartopy>=0.18.0->geoviews) (1.4.4)\n",
            "Requirement already satisfied: cycler>=0.10 in /usr/local/lib/python3.8/dist-packages (from matplotlib>=3.1->cartopy>=0.18.0->geoviews) (0.11.0)\n",
            "Requirement already satisfied: fonttools>=4.22.0 in /usr/local/lib/python3.8/dist-packages (from matplotlib>=3.1->cartopy>=0.18.0->geoviews) (4.38.0)\n",
            "Requirement already satisfied: python-dateutil>=2.7 in /usr/local/lib/python3.8/dist-packages (from matplotlib>=3.1->cartopy>=0.18.0->geoviews) (2.8.2)\n",
            "Requirement already satisfied: pyparsing>=2.2.1 in /usr/local/lib/python3.8/dist-packages (from matplotlib>=3.1->cartopy>=0.18.0->geoviews) (3.0.9)\n",
            "Requirement already satisfied: pytz>=2017.3 in /usr/local/lib/python3.8/dist-packages (from pandas>=0.20.0->holoviews>=1.14.2->geoviews) (2022.7.1)\n",
            "Requirement already satisfied: certifi in /usr/local/lib/python3.8/dist-packages (from pyproj>=3.0.0->cartopy>=0.18.0->geoviews) (2022.12.7)\n",
            "Requirement already satisfied: webencodings in /usr/local/lib/python3.8/dist-packages (from bleach->panel->geoviews) (0.5.1)\n",
            "Requirement already satisfied: six>=1.9.0 in /usr/local/lib/python3.8/dist-packages (from bleach->panel->geoviews) (1.15.0)\n",
            "Requirement already satisfied: importlib-metadata>=4.4 in /usr/local/lib/python3.8/dist-packages (from markdown->panel->geoviews) (6.0.0)\n",
            "Requirement already satisfied: idna<3,>=2.5 in /usr/local/lib/python3.8/dist-packages (from requests->panel->geoviews) (2.10)\n",
            "Requirement already satisfied: chardet<5,>=3.0.2 in /usr/local/lib/python3.8/dist-packages (from requests->panel->geoviews) (4.0.0)\n",
            "Requirement already satisfied: urllib3<1.27,>=1.21.1 in /usr/local/lib/python3.8/dist-packages (from requests->panel->geoviews) (1.24.3)\n",
            "Requirement already satisfied: zipp>=0.5 in /usr/local/lib/python3.8/dist-packages (from importlib-metadata>=4.4->markdown->panel->geoviews) (3.14.0)\n",
            "Installing collected packages: bokeh, panel, geoviews\n",
            "  Attempting uninstall: bokeh\n",
            "    Found existing installation: bokeh 2.3.3\n",
            "    Uninstalling bokeh-2.3.3:\n",
            "      Successfully uninstalled bokeh-2.3.3\n",
            "  Attempting uninstall: panel\n",
            "    Found existing installation: panel 0.12.1\n",
            "    Uninstalling panel-0.12.1:\n",
            "      Successfully uninstalled panel-0.12.1\n",
            "Successfully installed bokeh-2.4.3 geoviews-1.9.6 panel-0.14.3\n",
            "Looking in indexes: https://pypi.org/simple, https://us-python.pkg.dev/colab-wheels/public/simple/\n",
            "Collecting metpy\n",
            "  Downloading MetPy-1.4.0-py3-none-any.whl (387 kB)\n",
            "\u001b[2K     \u001b[90m━━━━━━━━━━━━━━━━━━━━━━━━━━━━━━━━━━━━━━\u001b[0m \u001b[32m387.7/387.7 KB\u001b[0m \u001b[31m26.6 MB/s\u001b[0m eta \u001b[36m0:00:00\u001b[0m\n",
            "\u001b[?25hRequirement already satisfied: matplotlib>=3.3.0 in /usr/local/lib/python3.8/dist-packages (from metpy) (3.5.3)\n",
            "Requirement already satisfied: pyproj>=2.6.1 in /usr/local/lib/python3.8/dist-packages (from metpy) (3.4.1)\n",
            "Requirement already satisfied: numpy>=1.18.0 in /usr/local/lib/python3.8/dist-packages (from metpy) (1.22.4)\n",
            "Requirement already satisfied: scipy>=1.4.0 in /usr/local/lib/python3.8/dist-packages (from metpy) (1.7.3)\n",
            "Requirement already satisfied: pandas>=1.0.0 in /usr/local/lib/python3.8/dist-packages (from metpy) (1.3.5)\n",
            "Collecting pint>=0.15\n",
            "  Downloading Pint-0.20.1-py3-none-any.whl (269 kB)\n",
            "\u001b[2K     \u001b[90m━━━━━━━━━━━━━━━━━━━━━━━━━━━━━━━━━━━━━━\u001b[0m \u001b[32m269.5/269.5 KB\u001b[0m \u001b[31m33.1 MB/s\u001b[0m eta \u001b[36m0:00:00\u001b[0m\n",
            "\u001b[?25hRequirement already satisfied: xarray>=0.18.0 in /usr/local/lib/python3.8/dist-packages (from metpy) (2022.12.0)\n",
            "Requirement already satisfied: pooch>=1.2.0 in /usr/local/lib/python3.8/dist-packages (from metpy) (1.6.0)\n",
            "Requirement already satisfied: importlib-resources>=1.3.0 in /usr/local/lib/python3.8/dist-packages (from metpy) (5.12.0)\n",
            "Requirement already satisfied: traitlets>=5.0.5 in /usr/local/lib/python3.8/dist-packages (from metpy) (5.7.1)\n",
            "Requirement already satisfied: zipp>=3.1.0 in /usr/local/lib/python3.8/dist-packages (from importlib-resources>=1.3.0->metpy) (3.14.0)\n",
            "Requirement already satisfied: pillow>=6.2.0 in /usr/local/lib/python3.8/dist-packages (from matplotlib>=3.3.0->metpy) (7.1.2)\n",
            "Requirement already satisfied: packaging>=20.0 in /usr/local/lib/python3.8/dist-packages (from matplotlib>=3.3.0->metpy) (23.0)\n",
            "Requirement already satisfied: pyparsing>=2.2.1 in /usr/local/lib/python3.8/dist-packages (from matplotlib>=3.3.0->metpy) (3.0.9)\n",
            "Requirement already satisfied: kiwisolver>=1.0.1 in /usr/local/lib/python3.8/dist-packages (from matplotlib>=3.3.0->metpy) (1.4.4)\n",
            "Requirement already satisfied: cycler>=0.10 in /usr/local/lib/python3.8/dist-packages (from matplotlib>=3.3.0->metpy) (0.11.0)\n",
            "Requirement already satisfied: fonttools>=4.22.0 in /usr/local/lib/python3.8/dist-packages (from matplotlib>=3.3.0->metpy) (4.38.0)\n",
            "Requirement already satisfied: python-dateutil>=2.7 in /usr/local/lib/python3.8/dist-packages (from matplotlib>=3.3.0->metpy) (2.8.2)\n",
            "Requirement already satisfied: pytz>=2017.3 in /usr/local/lib/python3.8/dist-packages (from pandas>=1.0.0->metpy) (2022.7.1)\n",
            "Requirement already satisfied: appdirs>=1.3.0 in /usr/local/lib/python3.8/dist-packages (from pooch>=1.2.0->metpy) (1.4.4)\n",
            "Requirement already satisfied: requests>=2.19.0 in /usr/local/lib/python3.8/dist-packages (from pooch>=1.2.0->metpy) (2.25.1)\n",
            "Requirement already satisfied: certifi in /usr/local/lib/python3.8/dist-packages (from pyproj>=2.6.1->metpy) (2022.12.7)\n",
            "Requirement already satisfied: six>=1.5 in /usr/local/lib/python3.8/dist-packages (from python-dateutil>=2.7->matplotlib>=3.3.0->metpy) (1.15.0)\n",
            "Requirement already satisfied: chardet<5,>=3.0.2 in /usr/local/lib/python3.8/dist-packages (from requests>=2.19.0->pooch>=1.2.0->metpy) (4.0.0)\n",
            "Requirement already satisfied: idna<3,>=2.5 in /usr/local/lib/python3.8/dist-packages (from requests>=2.19.0->pooch>=1.2.0->metpy) (2.10)\n",
            "Requirement already satisfied: urllib3<1.27,>=1.21.1 in /usr/local/lib/python3.8/dist-packages (from requests>=2.19.0->pooch>=1.2.0->metpy) (1.24.3)\n",
            "Installing collected packages: pint, metpy\n",
            "Successfully installed metpy-1.4.0 pint-0.20.1\n"
          ]
        }
      ],
      "source": [
        "!pip install GEOS\n",
        "!pip install Shapely\n",
        "!pip install pyshp\n",
        "!pip install Cython\n",
        "!pip install six\n",
        "!pip install cartopy\n",
        "!pip install pyproj\n",
        "!pip install geos\n",
        "!pip install geoviews\n",
        "!pip install metpy\n"
      ]
    },
    {
      "cell_type": "code",
      "source": [
        "!pip install goes2go"
      ],
      "metadata": {
        "colab": {
          "base_uri": "https://localhost:8080/"
        },
        "id": "_NxD9WCko6PB",
        "outputId": "a5e622cf-2f15-4d92-9022-939b507d310e"
      },
      "execution_count": 2,
      "outputs": [
        {
          "output_type": "stream",
          "name": "stdout",
          "text": [
            "Looking in indexes: https://pypi.org/simple, https://us-python.pkg.dev/colab-wheels/public/simple/\n",
            "Collecting goes2go\n",
            "  Downloading goes2go-2022.10.0-py3-none-any.whl (34 kB)\n",
            "Requirement already satisfied: pandas in /usr/local/lib/python3.8/dist-packages (from goes2go) (1.3.5)\n",
            "Requirement already satisfied: xarray in /usr/local/lib/python3.8/dist-packages (from goes2go) (2022.12.0)\n",
            "Requirement already satisfied: metpy in /usr/local/lib/python3.8/dist-packages (from goes2go) (1.4.0)\n",
            "Requirement already satisfied: toml in /usr/local/lib/python3.8/dist-packages (from goes2go) (0.10.2)\n",
            "Requirement already satisfied: cartopy in /usr/local/lib/python3.8/dist-packages (from goes2go) (0.21.1)\n",
            "Requirement already satisfied: numpy in /usr/local/lib/python3.8/dist-packages (from goes2go) (1.22.4)\n",
            "Collecting s3fs\n",
            "  Downloading s3fs-2023.1.0-py3-none-any.whl (27 kB)\n",
            "Requirement already satisfied: netcdf4 in /usr/local/lib/python3.8/dist-packages (from goes2go) (1.6.2)\n",
            "Requirement already satisfied: shapely>=1.6.4 in /usr/local/lib/python3.8/dist-packages (from cartopy->goes2go) (2.0.1)\n",
            "Requirement already satisfied: pyshp>=2.1 in /usr/local/lib/python3.8/dist-packages (from cartopy->goes2go) (2.3.1)\n",
            "Requirement already satisfied: matplotlib>=3.1 in /usr/local/lib/python3.8/dist-packages (from cartopy->goes2go) (3.5.3)\n",
            "Requirement already satisfied: pyproj>=3.0.0 in /usr/local/lib/python3.8/dist-packages (from cartopy->goes2go) (3.4.1)\n",
            "Requirement already satisfied: scipy>=1.4.0 in /usr/local/lib/python3.8/dist-packages (from metpy->goes2go) (1.7.3)\n",
            "Requirement already satisfied: pint>=0.15 in /usr/local/lib/python3.8/dist-packages (from metpy->goes2go) (0.20.1)\n",
            "Requirement already satisfied: traitlets>=5.0.5 in /usr/local/lib/python3.8/dist-packages (from metpy->goes2go) (5.7.1)\n",
            "Requirement already satisfied: pooch>=1.2.0 in /usr/local/lib/python3.8/dist-packages (from metpy->goes2go) (1.6.0)\n",
            "Requirement already satisfied: importlib-resources>=1.3.0 in /usr/local/lib/python3.8/dist-packages (from metpy->goes2go) (5.12.0)\n",
            "Requirement already satisfied: pytz>=2017.3 in /usr/local/lib/python3.8/dist-packages (from pandas->goes2go) (2022.7.1)\n",
            "Requirement already satisfied: python-dateutil>=2.7.3 in /usr/local/lib/python3.8/dist-packages (from pandas->goes2go) (2.8.2)\n",
            "Requirement already satisfied: packaging>=21.3 in /usr/local/lib/python3.8/dist-packages (from xarray->goes2go) (23.0)\n",
            "Requirement already satisfied: cftime in /usr/local/lib/python3.8/dist-packages (from netcdf4->goes2go) (1.6.2)\n",
            "Requirement already satisfied: fsspec==2023.1.0 in /usr/local/lib/python3.8/dist-packages (from s3fs->goes2go) (2023.1.0)\n",
            "Requirement already satisfied: aiohttp!=4.0.0a0,!=4.0.0a1 in /usr/local/lib/python3.8/dist-packages (from s3fs->goes2go) (3.8.4)\n",
            "Collecting aiobotocore~=2.4.2\n",
            "  Downloading aiobotocore-2.4.2-py3-none-any.whl (66 kB)\n",
            "\u001b[2K     \u001b[90m━━━━━━━━━━━━━━━━━━━━━━━━━━━━━━━━━━━━━━━━\u001b[0m \u001b[32m66.8/66.8 KB\u001b[0m \u001b[31m9.8 MB/s\u001b[0m eta \u001b[36m0:00:00\u001b[0m\n",
            "\u001b[?25hCollecting botocore<1.27.60,>=1.27.59\n",
            "  Downloading botocore-1.27.59-py3-none-any.whl (9.1 MB)\n",
            "\u001b[2K     \u001b[90m━━━━━━━━━━━━━━━━━━━━━━━━━━━━━━━━━━━━━━━━\u001b[0m \u001b[32m9.1/9.1 MB\u001b[0m \u001b[31m91.2 MB/s\u001b[0m eta \u001b[36m0:00:00\u001b[0m\n",
            "\u001b[?25hCollecting aioitertools>=0.5.1\n",
            "  Downloading aioitertools-0.11.0-py3-none-any.whl (23 kB)\n",
            "Requirement already satisfied: wrapt>=1.10.10 in /usr/local/lib/python3.8/dist-packages (from aiobotocore~=2.4.2->s3fs->goes2go) (1.14.1)\n",
            "Requirement already satisfied: yarl<2.0,>=1.0 in /usr/local/lib/python3.8/dist-packages (from aiohttp!=4.0.0a0,!=4.0.0a1->s3fs->goes2go) (1.8.2)\n",
            "Requirement already satisfied: frozenlist>=1.1.1 in /usr/local/lib/python3.8/dist-packages (from aiohttp!=4.0.0a0,!=4.0.0a1->s3fs->goes2go) (1.3.3)\n",
            "Requirement already satisfied: aiosignal>=1.1.2 in /usr/local/lib/python3.8/dist-packages (from aiohttp!=4.0.0a0,!=4.0.0a1->s3fs->goes2go) (1.3.1)\n",
            "Requirement already satisfied: attrs>=17.3.0 in /usr/local/lib/python3.8/dist-packages (from aiohttp!=4.0.0a0,!=4.0.0a1->s3fs->goes2go) (22.2.0)\n",
            "Requirement already satisfied: async-timeout<5.0,>=4.0.0a3 in /usr/local/lib/python3.8/dist-packages (from aiohttp!=4.0.0a0,!=4.0.0a1->s3fs->goes2go) (4.0.2)\n",
            "Requirement already satisfied: multidict<7.0,>=4.5 in /usr/local/lib/python3.8/dist-packages (from aiohttp!=4.0.0a0,!=4.0.0a1->s3fs->goes2go) (6.0.4)\n",
            "Requirement already satisfied: charset-normalizer<4.0,>=2.0 in /usr/local/lib/python3.8/dist-packages (from aiohttp!=4.0.0a0,!=4.0.0a1->s3fs->goes2go) (3.0.1)\n",
            "Requirement already satisfied: zipp>=3.1.0 in /usr/local/lib/python3.8/dist-packages (from importlib-resources>=1.3.0->metpy->goes2go) (3.14.0)\n",
            "Requirement already satisfied: kiwisolver>=1.0.1 in /usr/local/lib/python3.8/dist-packages (from matplotlib>=3.1->cartopy->goes2go) (1.4.4)\n",
            "Requirement already satisfied: cycler>=0.10 in /usr/local/lib/python3.8/dist-packages (from matplotlib>=3.1->cartopy->goes2go) (0.11.0)\n",
            "Requirement already satisfied: pillow>=6.2.0 in /usr/local/lib/python3.8/dist-packages (from matplotlib>=3.1->cartopy->goes2go) (7.1.2)\n",
            "Requirement already satisfied: fonttools>=4.22.0 in /usr/local/lib/python3.8/dist-packages (from matplotlib>=3.1->cartopy->goes2go) (4.38.0)\n",
            "Requirement already satisfied: pyparsing>=2.2.1 in /usr/local/lib/python3.8/dist-packages (from matplotlib>=3.1->cartopy->goes2go) (3.0.9)\n",
            "Requirement already satisfied: appdirs>=1.3.0 in /usr/local/lib/python3.8/dist-packages (from pooch>=1.2.0->metpy->goes2go) (1.4.4)\n",
            "Requirement already satisfied: requests>=2.19.0 in /usr/local/lib/python3.8/dist-packages (from pooch>=1.2.0->metpy->goes2go) (2.25.1)\n",
            "Requirement already satisfied: certifi in /usr/local/lib/python3.8/dist-packages (from pyproj>=3.0.0->cartopy->goes2go) (2022.12.7)\n",
            "Requirement already satisfied: six>=1.5 in /usr/local/lib/python3.8/dist-packages (from python-dateutil>=2.7.3->pandas->goes2go) (1.15.0)\n",
            "Requirement already satisfied: typing_extensions>=4.0 in /usr/local/lib/python3.8/dist-packages (from aioitertools>=0.5.1->aiobotocore~=2.4.2->s3fs->goes2go) (4.5.0)\n",
            "Collecting urllib3<1.27,>=1.25.4\n",
            "  Downloading urllib3-1.26.14-py2.py3-none-any.whl (140 kB)\n",
            "\u001b[2K     \u001b[90m━━━━━━━━━━━━━━━━━━━━━━━━━━━━━━━━━━━━━━\u001b[0m \u001b[32m140.6/140.6 KB\u001b[0m \u001b[31m18.6 MB/s\u001b[0m eta \u001b[36m0:00:00\u001b[0m\n",
            "\u001b[?25hCollecting jmespath<2.0.0,>=0.7.1\n",
            "  Downloading jmespath-1.0.1-py3-none-any.whl (20 kB)\n",
            "Requirement already satisfied: chardet<5,>=3.0.2 in /usr/local/lib/python3.8/dist-packages (from requests>=2.19.0->pooch>=1.2.0->metpy->goes2go) (4.0.0)\n",
            "Requirement already satisfied: idna<3,>=2.5 in /usr/local/lib/python3.8/dist-packages (from requests>=2.19.0->pooch>=1.2.0->metpy->goes2go) (2.10)\n",
            "Installing collected packages: urllib3, jmespath, aioitertools, botocore, aiobotocore, s3fs, goes2go\n",
            "  Attempting uninstall: urllib3\n",
            "    Found existing installation: urllib3 1.24.3\n",
            "    Uninstalling urllib3-1.24.3:\n",
            "      Successfully uninstalled urllib3-1.24.3\n",
            "Successfully installed aiobotocore-2.4.2 aioitertools-0.11.0 botocore-1.27.59 goes2go-2022.10.0 jmespath-1.0.1 s3fs-2023.1.0 urllib3-1.26.14\n"
          ]
        }
      ]
    },
    {
      "cell_type": "code",
      "source": [
        "from goes2go import GOES\n",
        "\n",
        "# ABI Multi-Channel Cloud Moisture Imagry Product\n",
        "G = GOES(satellite=16, product=\"ABI-L2-MCMIP\", domain='C')\n",
        "\n",
        "# Geostationary Lightning Mapper\n",
        "G = GOES(satellite=17, product=\"GLM-L2-LCFA\", domain='C')\n",
        "\n",
        "# ABI Level 1b Data\n",
        "G = GOES(satellite=17, product=\"ABI-L1b-Rad\", domain='F')"
      ],
      "metadata": {
        "colab": {
          "base_uri": "https://localhost:8080/"
        },
        "id": "_0czYMlLpDgx",
        "outputId": "90d5c198-de37-43fe-d3a2-3da9eb662349"
      },
      "execution_count": 3,
      "outputs": [
        {
          "output_type": "stream",
          "name": "stdout",
          "text": [
            " ╭─────────────────────────────────────────────────╮\n",
            " │ I'm building goes2go's default config file.     │\n",
            " ╰╥────────────────────────────────────────────────╯\n",
            " 👷🏻‍♂️\n",
            "⚙ Created config file [/root/.config/goes2go/config.toml] with default values.\n"
          ]
        },
        {
          "output_type": "stream",
          "name": "stderr",
          "text": [
            "WARNING:goes2go.NEW:domain argument is ignored for non-ABI products\n"
          ]
        }
      ]
    },
    {
      "cell_type": "code",
      "source": [
        "# Produce a pandas DataFrame of the available files in a time range\n",
        "df = G.df(start='2022-07-04 01:00', end='2022-07-04 01:30')"
      ],
      "metadata": {
        "id": "6_nN4pzopDqw"
      },
      "execution_count": 4,
      "outputs": []
    },
    {
      "cell_type": "markdown",
      "source": [
        "## **Session Crashed on the line below used up all the available RAM**"
      ],
      "metadata": {
        "id": "ODQFbt0cp9SQ"
      }
    },
    {
      "cell_type": "code",
      "source": [
        "# Download and read the data as an xarray Dataset nearest a specific time\n",
        "ds = G.nearesttime('2022-01-01') \n",
        "\n",
        "#Error: \n",
        "# Session crashed after using all available RAM. If you are interested in access to high-RAM runtimes, you may want to check out\n",
        "\n"
      ],
      "metadata": {
        "colab": {
          "base_uri": "https://localhost:8080/",
          "height": 200
        },
        "id": "sXV8PBripDuV",
        "outputId": "14e5217f-b953-44fc-c77a-7e578532bcda"
      },
      "execution_count": 1,
      "outputs": [
        {
          "output_type": "error",
          "ename": "NameError",
          "evalue": "ignored",
          "traceback": [
            "\u001b[0;31m---------------------------------------------------------------------------\u001b[0m",
            "\u001b[0;31mNameError\u001b[0m                                 Traceback (most recent call last)",
            "\u001b[0;32m<ipython-input-1-17e60809ad0e>\u001b[0m in \u001b[0;36m<module>\u001b[0;34m\u001b[0m\n\u001b[1;32m      1\u001b[0m \u001b[0;31m# Download and read the data as an xarray Dataset nearest a specific time\u001b[0m\u001b[0;34m\u001b[0m\u001b[0;34m\u001b[0m\u001b[0;34m\u001b[0m\u001b[0m\n\u001b[0;32m----> 2\u001b[0;31m \u001b[0mds\u001b[0m \u001b[0;34m=\u001b[0m \u001b[0mG\u001b[0m\u001b[0;34m.\u001b[0m\u001b[0mnearesttime\u001b[0m\u001b[0;34m(\u001b[0m\u001b[0;34m'2022-01-01'\u001b[0m\u001b[0;34m)\u001b[0m \u001b[0;31m# Your session crashed after using all available RAM. If you are interested in access to high-RAM runtimes, you may want to check out\u001b[0m\u001b[0;34m\u001b[0m\u001b[0;34m\u001b[0m\u001b[0m\n\u001b[0m\u001b[1;32m      3\u001b[0m \u001b[0;34m\u001b[0m\u001b[0m\n",
            "\u001b[0;31mNameError\u001b[0m: name 'G' is not defined"
          ]
        }
      ]
    },
    {
      "cell_type": "code",
      "source": [],
      "metadata": {
        "id": "ikSbcI8FpkRQ"
      },
      "execution_count": null,
      "outputs": []
    }
  ]
}